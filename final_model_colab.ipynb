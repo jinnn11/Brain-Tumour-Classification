{
  "nbformat": 4,
  "nbformat_minor": 0,
  "metadata": {
    "colab": {
      "provenance": [],
      "gpuType": "T4"
    },
    "kernelspec": {
      "name": "python3",
      "display_name": "Python 3"
    },
    "language_info": {
      "name": "python"
    },
    "accelerator": "GPU"
  },
  "cells": [
    {
      "cell_type": "code",
      "execution_count": 1,
      "metadata": {
        "colab": {
          "base_uri": "https://localhost:8080/"
        },
        "id": "EtZoyhRvZZa7",
        "outputId": "704df13b-a713-4dcb-d003-3f2665df0731"
      },
      "outputs": [
        {
          "output_type": "stream",
          "name": "stdout",
          "text": [
            "Mounted at /content/drive\n"
          ]
        }
      ],
      "source": [
        "from google.colab import drive\n",
        "drive.mount('/content/drive')"
      ]
    },
    {
      "cell_type": "code",
      "source": [
        "!git clone https://github.com/jinnn11/Brain-Tumour-Classification.git"
      ],
      "metadata": {
        "colab": {
          "base_uri": "https://localhost:8080/"
        },
        "id": "yBCdsW6wZdG2",
        "outputId": "eefc99b7-072e-45da-a24b-68b10953e700"
      },
      "execution_count": 2,
      "outputs": [
        {
          "output_type": "stream",
          "name": "stdout",
          "text": [
            "Cloning into 'Brain-Tumour-Classification'...\n",
            "remote: Enumerating objects: 3048, done.\u001b[K\n",
            "remote: Counting objects: 100% (6/6), done.\u001b[K\n",
            "remote: Compressing objects: 100% (4/4), done.\u001b[K\n",
            "remote: Total 3048 (delta 2), reused 5 (delta 2), pack-reused 3042\u001b[K\n",
            "Receiving objects: 100% (3048/3048), 165.51 MiB | 13.59 MiB/s, done.\n",
            "Resolving deltas: 100% (2/2), done.\n",
            "Updating files: 100% (3266/3266), done.\n"
          ]
        }
      ]
    },
    {
      "cell_type": "code",
      "source": [
        "from zipfile import ZipFile\n",
        "\n",
        "with ZipFile(\"Brain-Tumour-Classification/archive.zip\") as f:\n",
        "    f.extractall()"
      ],
      "metadata": {
        "id": "W2Ag4cxHZomr"
      },
      "execution_count": 3,
      "outputs": []
    },
    {
      "cell_type": "code",
      "source": [
        "import os\n",
        "for dirpath, dirnames, filenames in os.walk(\"/content/Brain-Tumour-Classification/Dataset\"):\n",
        "  print(f\"There are {len(dirnames)} directories and {len(filenames)} images in '{dirpath}'.\")"
      ],
      "metadata": {
        "colab": {
          "base_uri": "https://localhost:8080/"
        },
        "id": "HcpkZKHlZ-8y",
        "outputId": "7ac5ea10-73d0-4f4b-d84e-53dc6db3ef38"
      },
      "execution_count": 4,
      "outputs": [
        {
          "output_type": "stream",
          "name": "stdout",
          "text": [
            "There are 2 directories and 0 images in '/content/Brain-Tumour-Classification/Dataset'.\n",
            "There are 4 directories and 0 images in '/content/Brain-Tumour-Classification/Dataset/Testing'.\n",
            "There are 0 directories and 105 images in '/content/Brain-Tumour-Classification/Dataset/Testing/no_tumor'.\n",
            "There are 0 directories and 74 images in '/content/Brain-Tumour-Classification/Dataset/Testing/pituitary_tumor'.\n",
            "There are 0 directories and 115 images in '/content/Brain-Tumour-Classification/Dataset/Testing/meningioma_tumor'.\n",
            "There are 0 directories and 100 images in '/content/Brain-Tumour-Classification/Dataset/Testing/glioma_tumor'.\n",
            "There are 4 directories and 0 images in '/content/Brain-Tumour-Classification/Dataset/Training'.\n",
            "There are 0 directories and 395 images in '/content/Brain-Tumour-Classification/Dataset/Training/no_tumor'.\n",
            "There are 0 directories and 827 images in '/content/Brain-Tumour-Classification/Dataset/Training/pituitary_tumor'.\n",
            "There are 0 directories and 822 images in '/content/Brain-Tumour-Classification/Dataset/Training/meningioma_tumor'.\n",
            "There are 0 directories and 826 images in '/content/Brain-Tumour-Classification/Dataset/Training/glioma_tumor'.\n"
          ]
        }
      ]
    },
    {
      "cell_type": "code",
      "source": [
        "####NO OF CLASSES\n",
        "import pathlib\n",
        "\n",
        "data_dir = pathlib.Path(\"/content/Brain-Tumour-Classification/Dataset/Training/\")\n",
        "class_names = [item.name for item in data_dir.glob(\"*\")]\n",
        "class_names"
      ],
      "metadata": {
        "colab": {
          "base_uri": "https://localhost:8080/"
        },
        "id": "mHOdKflTaA8e",
        "outputId": "1bdd56ca-1d5a-4a9d-89c2-291bb9b97ad5"
      },
      "execution_count": 5,
      "outputs": [
        {
          "output_type": "execute_result",
          "data": {
            "text/plain": [
              "['no_tumor', 'pituitary_tumor', 'meningioma_tumor', 'glioma_tumor']"
            ]
          },
          "metadata": {},
          "execution_count": 5
        }
      ]
    },
    {
      "cell_type": "code",
      "source": [
        "import matplotlib.pyplot as plt\n",
        "import matplotlib.image as mpimg\n",
        "import random\n",
        "\n",
        "def view_random_image(target_dir, target_class):\n",
        "    target_folder = target_dir + '/' + target_class\n",
        "\n",
        "    random_image = random.sample(os.listdir(target_folder), 1)\n",
        "\n",
        "    img = mpimg.imread(target_folder + '/' + random_image[0])\n",
        "\n",
        "    plt.imshow(img)\n",
        "    plt.title(target_class)\n",
        "    plt.axis(\"off\")\n",
        "\n",
        "    print(f\"shape: {img.shape}\")\n",
        "\n",
        "    return img\n"
      ],
      "metadata": {
        "id": "NtxGR6uQaNgk"
      },
      "execution_count": 6,
      "outputs": []
    },
    {
      "cell_type": "code",
      "source": [
        "train_dir = \"/content/Brain-Tumour-Classification/Dataset/Training/\"\n",
        "test_dir = \"/content/Brain-Tumour-Classification/Dataset/Testing\"\n",
        "\n",
        "from tensorflow.keras.preprocessing.image import ImageDataGenerator\n",
        "\n",
        "train_datagen = ImageDataGenerator(rescale=1./255)\n",
        "test_datagen = ImageDataGenerator(rescale=1./255)\n",
        "\n",
        "train_data = train_datagen.flow_from_directory(directory=train_dir,\n",
        "                                               target_size=(256, 256),\n",
        "                                               class_mode=\"categorical\",\n",
        "                                               batch_size=32,\n",
        "                                               subset=\"training\")\n",
        "\n",
        "\n",
        "test_data = test_datagen.flow_from_directory(directory=test_dir,\n",
        "                                             target_size=(256,256),\n",
        "                                             class_mode=\"categorical\",\n",
        "                                             batch_size=32)\n",
        "\n",
        "import tensorflow as tf\n",
        "from tensorflow.keras.models import Sequential\n",
        "from tensorflow.keras.layers import Conv2D, MaxPooling2D, Flatten, Dense, Dropout\n",
        "from tensorflow.keras.losses import CategoricalCrossentropy\n",
        "len(tf.config.list_physical_devices('GPU'))"
      ],
      "metadata": {
        "colab": {
          "base_uri": "https://localhost:8080/"
        },
        "id": "h5cBWp9yaO0r",
        "outputId": "b9722c3b-a3ed-4924-b7ea-50b5c492810b"
      },
      "execution_count": 23,
      "outputs": [
        {
          "output_type": "stream",
          "name": "stdout",
          "text": [
            "Found 2870 images belonging to 4 classes.\n",
            "Found 394 images belonging to 4 classes.\n"
          ]
        },
        {
          "output_type": "execute_result",
          "data": {
            "text/plain": [
              "1"
            ]
          },
          "metadata": {},
          "execution_count": 23
        }
      ]
    },
    {
      "cell_type": "code",
      "source": [
        "import tensorflow_hub as hub\n",
        "from tensorflow.keras import layers, models, optimizers\n",
        "\n",
        "feature_extractor_url = \"https://tfhub.dev/google/tf2-preview/inception_v3/feature_vector/4\"\n",
        "feature_extractor_layer = hub.KerasLayer(\n",
        "    feature_extractor_url,\n",
        "    input_shape=(256,256, 3),\n",
        "    trainable=False\n",
        ")\n",
        "\n",
        "model_4 = Sequential([\n",
        "    feature_extractor_layer,\n",
        "    Dense(512, activation='relu'),  # Add your own layers here\n",
        "    Dropout(0.5),\n",
        "    Dense(4, activation='softmax')  # Number of output classes\n",
        "])\n",
        "\n",
        "model_4.compile(\n",
        "    optimizer=optimizers.Adam(learning_rate=0.0001),\n",
        "    loss='categorical_crossentropy',\n",
        "    metrics=['accuracy']\n",
        ")\n",
        "\n",
        "# Train the model\n",
        "history_4 = model_4.fit(\n",
        "    train_data,\n",
        "    epochs=10,  # Adjust the number of epochs as needed\n",
        "    validation_data=test_data ,\n",
        "    steps_per_epoch=len(train_data),\n",
        "    validation_steps=len(test_data )\n",
        ")"
      ],
      "metadata": {
        "colab": {
          "base_uri": "https://localhost:8080/"
        },
        "id": "EB7N12gmacn2",
        "outputId": "7af49cb5-aaff-42d0-a164-9fe703085a0e"
      },
      "execution_count": 24,
      "outputs": [
        {
          "output_type": "stream",
          "name": "stdout",
          "text": [
            "Epoch 1/10\n",
            "90/90 [==============================] - 19s 149ms/step - loss: 0.9733 - accuracy: 0.5885 - val_loss: 1.0771 - val_accuracy: 0.5990\n",
            "Epoch 2/10\n",
            "90/90 [==============================] - 12s 135ms/step - loss: 0.6277 - accuracy: 0.7634 - val_loss: 1.0810 - val_accuracy: 0.6015\n",
            "Epoch 3/10\n",
            "90/90 [==============================] - 11s 126ms/step - loss: 0.5269 - accuracy: 0.8024 - val_loss: 1.0530 - val_accuracy: 0.6396\n",
            "Epoch 4/10\n",
            "90/90 [==============================] - 12s 128ms/step - loss: 0.4725 - accuracy: 0.8279 - val_loss: 0.9462 - val_accuracy: 0.6777\n",
            "Epoch 5/10\n",
            "90/90 [==============================] - 11s 118ms/step - loss: 0.4339 - accuracy: 0.8390 - val_loss: 0.9583 - val_accuracy: 0.6827\n",
            "Epoch 6/10\n",
            "90/90 [==============================] - 11s 119ms/step - loss: 0.3901 - accuracy: 0.8596 - val_loss: 0.9275 - val_accuracy: 0.6624\n",
            "Epoch 7/10\n",
            "90/90 [==============================] - 11s 121ms/step - loss: 0.3610 - accuracy: 0.8749 - val_loss: 0.9617 - val_accuracy: 0.6904\n",
            "Epoch 8/10\n",
            "90/90 [==============================] - 11s 122ms/step - loss: 0.3315 - accuracy: 0.8822 - val_loss: 0.9338 - val_accuracy: 0.7030\n",
            "Epoch 9/10\n",
            "90/90 [==============================] - 11s 123ms/step - loss: 0.3014 - accuracy: 0.8871 - val_loss: 0.9225 - val_accuracy: 0.7132\n",
            "Epoch 10/10\n",
            "90/90 [==============================] - 10s 113ms/step - loss: 0.2849 - accuracy: 0.9028 - val_loss: 0.9163 - val_accuracy: 0.7107\n"
          ]
        }
      ]
    },
    {
      "cell_type": "code",
      "source": [
        "import tensorflow_hub as hub\n",
        "from tensorflow.keras import layers, models, optimizers\n",
        "\n",
        "feature_extractor_url = \"https://tfhub.dev/google/tf2-preview/inception_v3/feature_vector/4\"\n",
        "feature_extractor_layer = hub.KerasLayer(\n",
        "    feature_extractor_url,\n",
        "    input_shape=(256,256, 3),\n",
        "    trainable=True\n",
        ")\n",
        "\n",
        "model_4 = Sequential([\n",
        "    feature_extractor_layer,\n",
        "    Dense(512, activation='relu'),  # Add your own layers here\n",
        "    Dropout(0.5),\n",
        "    Dense(4, activation='softmax')  # Number of output classes\n",
        "])\n",
        "\n",
        "model_4.compile(\n",
        "    optimizer=optimizers.Adam(learning_rate=0.0001),\n",
        "    loss='categorical_crossentropy',\n",
        "    metrics=['accuracy']\n",
        ")\n",
        "\n",
        "# Train the model\n",
        "history_4 = model_4.fit(\n",
        "    train_data,\n",
        "    epochs=10,  # Adjust the number of epochs as needed\n",
        "    validation_data=valid_data,\n",
        "    steps_per_epoch=len(train_data),\n",
        "    validation_steps=len(valid_data)\n",
        ")"
      ],
      "metadata": {
        "colab": {
          "base_uri": "https://localhost:8080/"
        },
        "id": "Y33ZAkM7ar8A",
        "outputId": "9ed89096-8568-4a1f-8f24-8958d830bf9c"
      },
      "execution_count": 25,
      "outputs": [
        {
          "output_type": "stream",
          "name": "stdout",
          "text": [
            "Epoch 1/10\n",
            "90/90 [==============================] - 72s 394ms/step - loss: 0.7067 - accuracy: 0.8129 - val_loss: 1.0474 - val_accuracy: 0.7193\n",
            "Epoch 2/10\n",
            "90/90 [==============================] - 30s 331ms/step - loss: 0.3343 - accuracy: 0.9655 - val_loss: 0.5732 - val_accuracy: 0.8702\n",
            "Epoch 3/10\n",
            "90/90 [==============================] - 30s 329ms/step - loss: 0.2816 - accuracy: 0.9843 - val_loss: 0.3722 - val_accuracy: 0.9333\n",
            "Epoch 4/10\n",
            "90/90 [==============================] - 30s 333ms/step - loss: 0.2693 - accuracy: 0.9854 - val_loss: 0.7815 - val_accuracy: 0.7965\n",
            "Epoch 5/10\n",
            "90/90 [==============================] - 30s 327ms/step - loss: 0.2473 - accuracy: 0.9948 - val_loss: 0.3266 - val_accuracy: 0.9509\n",
            "Epoch 6/10\n",
            "90/90 [==============================] - 30s 332ms/step - loss: 0.2869 - accuracy: 0.9787 - val_loss: 0.3925 - val_accuracy: 0.9333\n",
            "Epoch 7/10\n",
            "90/90 [==============================] - 31s 348ms/step - loss: 0.2628 - accuracy: 0.9906 - val_loss: 0.2768 - val_accuracy: 0.9895\n",
            "Epoch 8/10\n",
            "90/90 [==============================] - 30s 328ms/step - loss: 0.2601 - accuracy: 0.9906 - val_loss: 0.2759 - val_accuracy: 0.9860\n",
            "Epoch 9/10\n",
            "90/90 [==============================] - 30s 329ms/step - loss: 0.2439 - accuracy: 0.9951 - val_loss: 0.2540 - val_accuracy: 0.9895\n",
            "Epoch 10/10\n",
            "90/90 [==============================] - 30s 329ms/step - loss: 0.2451 - accuracy: 0.9941 - val_loss: 0.2305 - val_accuracy: 1.0000\n"
          ]
        }
      ]
    },
    {
      "cell_type": "code",
      "source": [
        "import pandas as pd\n",
        "history_4_df = pd.DataFrame(history_4.history)"
      ],
      "metadata": {
        "id": "E8zUNQJZbrY0"
      },
      "execution_count": 26,
      "outputs": []
    },
    {
      "cell_type": "code",
      "source": [
        "history_4_df.plot()"
      ],
      "metadata": {
        "colab": {
          "base_uri": "https://localhost:8080/",
          "height": 447
        },
        "id": "gpkkHiAvdf1F",
        "outputId": "9484eab8-b645-41c4-9e9b-6dc98eacb784"
      },
      "execution_count": 27,
      "outputs": [
        {
          "output_type": "execute_result",
          "data": {
            "text/plain": [
              "<Axes: >"
            ]
          },
          "metadata": {},
          "execution_count": 27
        },
        {
          "output_type": "display_data",
          "data": {
            "text/plain": [
              "<Figure size 640x480 with 1 Axes>"
            ],
            "image/png": "[encoded data removed]"
          },
          "metadata": {}
        }
      ]
    },
    {
      "cell_type": "code",
      "source": [
        "model_4.save(\"model_4_final.keras\")"
      ],
      "metadata": {
        "id": "oQNJFzZgeB8V"
      },
      "execution_count": 29,
      "outputs": []
    },
    {
      "cell_type": "code",
      "source": [],
      "metadata": {
        "id": "WzF92NIUdwCs"
      },
      "execution_count": null,
      "outputs": []
    }
  ]
}